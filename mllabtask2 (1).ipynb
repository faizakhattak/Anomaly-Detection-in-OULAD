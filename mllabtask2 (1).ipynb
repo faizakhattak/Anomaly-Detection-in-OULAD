{
  "nbformat": 4,
  "nbformat_minor": 0,
  "metadata": {
    "colab": {
      "provenance": []
    },
    "kernelspec": {
      "name": "python3",
      "display_name": "Python 3"
    },
    "language_info": {
      "name": "python"
    }
  },
  "cells": [
    {
      "cell_type": "markdown",
      "source": [
        "# **Connect to the drive to extract the datasets**"
      ],
      "metadata": {
        "id": "BWRBNJbfZ1x0"
      }
    },
    {
      "cell_type": "code",
      "execution_count": null,
      "metadata": {
        "id": "RuFG7SxCgiJf",
        "colab": {
          "base_uri": "https://localhost:8080/"
        },
        "outputId": "f9f70935-ddc2-4b1f-8e4c-7d4c0dba4031"
      },
      "outputs": [
        {
          "output_type": "stream",
          "name": "stdout",
          "text": [
            "Mounted at /content/drive\n"
          ]
        }
      ],
      "source": [
        "from google.colab import drive\n",
        "drive.mount('/content/drive')\n"
      ]
    },
    {
      "cell_type": "markdown",
      "source": [
        "# **Set the path**"
      ],
      "metadata": {
        "id": "m09lctJGaA0C"
      }
    },
    {
      "cell_type": "code",
      "source": [
        "path = '/content/drive/MyDrive/mltask2/'"
      ],
      "metadata": {
        "id": "NLz5BJ8Xn4QB"
      },
      "execution_count": null,
      "outputs": []
    },
    {
      "cell_type": "markdown",
      "source": [
        "#Install the Dask to read the file in large number of data"
      ],
      "metadata": {
        "id": "I6Zix3VYaEqm"
      }
    },
    {
      "cell_type": "code",
      "source": [
        "# Step 1: Install Dask\n",
        "!pip install dask --quiet"
      ],
      "metadata": {
        "id": "RvSncprxoB4t"
      },
      "execution_count": null,
      "outputs": []
    },
    {
      "cell_type": "markdown",
      "source": [
        "# Import The Libraries"
      ],
      "metadata": {
        "id": "5pj3LeFLaNzu"
      }
    },
    {
      "cell_type": "code",
      "source": [
        "# Step 2: Import Libraries\n",
        "import dask.dataframe as dd\n",
        "import numpy as np\n",
        "import pandas as pd\n",
        "import matplotlib.pyplot as plt"
      ],
      "metadata": {
        "id": "QEMsdxHmoM-a"
      },
      "execution_count": null,
      "outputs": []
    },
    {
      "cell_type": "markdown",
      "source": [
        "# **Read the files **"
      ],
      "metadata": {
        "id": "Ro8gK7BnaSPI"
      }
    },
    {
      "cell_type": "code",
      "source": [
        "# Load small/medium files directly with dtype control\n",
        "assessment = dd.read_csv(path + 'assessments.csv', dtype={\n",
        "    'code_module': 'object',\n",
        "    'code_presentation': 'object',\n",
        "    'id_assessment': 'int64',\n",
        "    'assessment_type': 'object',\n",
        "    'date': 'float64',\n",
        "    'weight': 'float64'\n",
        "})\n",
        "\n",
        "courses = dd.read_csv(path + 'courses.csv', dtype={\n",
        "    'code_module': 'object',\n",
        "    'code_presentation': 'object',\n",
        "    'module_presentation_length': 'int64'\n",
        "})\n",
        "\n",
        "student_assessment = dd.read_csv(path + 'studentAssessment.csv', dtype={\n",
        "    'id_assessment': 'int64',\n",
        "    'id_student': 'int64',\n",
        "    'date_submitted': 'float64',\n",
        "    'is_banked': 'int64',\n",
        "    'score': 'float64'\n",
        "})\n",
        "\n",
        "student_info = dd.read_csv(path + 'studentInfo.csv', dtype={\n",
        "    'code_module': 'object',\n",
        "    'code_presentation': 'object',\n",
        "    'id_student': 'int64',\n",
        "    'gender': 'object',\n",
        "    'region': 'object',\n",
        "    'highest_education': 'object',\n",
        "    'imd_band': 'object',\n",
        "    'age_band': 'object',\n",
        "    'num_of_prev_attempts': 'int64',\n",
        "    'studied_credits': 'int64',\n",
        "    'disability': 'object',\n",
        "    'final_result': 'object'\n",
        "})\n",
        "\n",
        "student_registration = dd.read_csv(path + 'studentRegistration.csv', dtype={\n",
        "    'code_module': 'object',\n",
        "    'code_presentation': 'object',\n",
        "    'id_student': 'int64',\n",
        "    'date_registration': 'float64',\n",
        "    'date_unregistration': 'float64'\n",
        "})\n",
        "\n"
      ],
      "metadata": {
        "id": "bKiZcgZCoPsd"
      },
      "execution_count": null,
      "outputs": []
    },
    {
      "cell_type": "markdown",
      "source": [
        "# **StudenVle dataset is large so divide into cunks**"
      ],
      "metadata": {
        "id": "HZQGIt4AaXR8"
      }
    },
    {
      "cell_type": "code",
      "source": [
        "# 🔁 Load large file in chunks (Dask handles this efficiently)\n",
        "student_vle = dd.read_csv(path + 'studentVle.csv', blocksize='100MB', dtype={\n",
        "    'code_module': 'object',\n",
        "    'code_presentation': 'object',\n",
        "    'id_student': 'int64',\n",
        "    'id_site': 'int64',\n",
        "    'date': 'float64',\n",
        "    'sum_click': 'float64'\n",
        "})\n",
        "\n",
        "vle = dd.read_csv(path + 'vle.csv', dtype={\n",
        "    'id_site': 'int64',\n",
        "    'code_module': 'object',\n",
        "    'code_presentation': 'object',\n",
        "    'activity_type': 'object'\n",
        "})"
      ],
      "metadata": {
        "id": "Jz75Y857OBV9"
      },
      "execution_count": null,
      "outputs": []
    },
    {
      "cell_type": "markdown",
      "source": [
        "The total number of clicks and the number of active days on the VLE (Virtual Learning Environment). It then merges and saves the aggregated results to a CSV file to avoid repeating the computations."
      ],
      "metadata": {
        "id": "mdo2ibKOe8BT"
      }
    },
    {
      "cell_type": "code",
      "source": [
        "# Total clicks per student\n",
        "total_clicks = student_vle.groupby('id_student')['sum_click'].sum().reset_index()\n",
        "total_clicks = total_clicks.rename(columns={'sum_click': 'total_clicks'})\n",
        "\n",
        "# Number of active days\n",
        "active_days = student_vle.groupby('id_student')['date'].nunique().reset_index()\n",
        "active_days = active_days.rename(columns={'date': 'active_days'})\n",
        "\n",
        "# Merge both aggregations\n",
        "vle_agg = total_clicks.merge(active_days, on='id_student')\n",
        "\n",
        "# Now compute final aggregated student VLE info\n",
        "vle_agg_df = vle_agg.compute()\n",
        "\n",
        "# Optional: Save it to avoid recomputation\n",
        "vle_agg_df.to_csv('/content/drive/MyDrive/mltask2/vle_aggregated.csv', index=False)\n"
      ],
      "metadata": {
        "id": "tmxCv_awOqP3"
      },
      "execution_count": null,
      "outputs": []
    },
    {
      "cell_type": "markdown",
      "source": [
        "# **Merge the Datasets**"
      ],
      "metadata": {
        "id": "Yyd0IiJ6agKM"
      }
    },
    {
      "cell_type": "markdown",
      "source": [
        "Multiple datasets to build a complete student profile, including assessment scores, demographics, and course registration. It then combines this profile with VLE activity data to prepare for further analysis."
      ],
      "metadata": {
        "id": "oRwyxLfLfUYi"
      }
    },
    {
      "cell_type": "code",
      "source": [
        "# Load other datasets as before\n",
        "\n",
        "# Merge step by step\n",
        "merged1 = student_assessment.merge(assessment, on='id_assessment', how='left')\n",
        "merged2 = merged1.merge(student_info, on=['id_student', 'code_module', 'code_presentation'], how='left')\n",
        "merged3 = merged2.merge(student_registration, on=['id_student', 'code_module', 'code_presentation'], how='left')\n",
        "\n",
        "# Now merge with preprocessed VLE aggregated data (small)\n",
        "merged_final = merged3.compute().merge(vle_agg_df, on='id_student', how='left')\n"
      ],
      "metadata": {
        "id": "Co02FIC9O8Gg"
      },
      "execution_count": null,
      "outputs": []
    },
    {
      "cell_type": "markdown",
      "source": [
        "calculates two features for each student: their average assessment score and the total number of unique assessments they've attempted. These metrics help in evaluating student performance and engagement."
      ],
      "metadata": {
        "id": "o2E5Ifilfmoy"
      }
    },
    {
      "cell_type": "code",
      "source": [
        "# Average score\n",
        "avg_score = merged_final.groupby('id_student')['score'].mean().reset_index(name='avg_score')\n",
        "\n",
        "# Number of assessments\n",
        "num_assess = merged_final.groupby('id_student')['id_assessment'].nunique().reset_index(name='num_assessments')\n"
      ],
      "metadata": {
        "id": "91rMSGBqO-Sf"
      },
      "execution_count": null,
      "outputs": []
    },
    {
      "cell_type": "markdown",
      "source": [
        " New column days_studied by subtracting the student's registration date from their unregistration date. It shows how long each student stayed active in the course."
      ],
      "metadata": {
        "id": "waHSs-8sft4S"
      }
    },
    {
      "cell_type": "code",
      "source": [
        "# Registration duration (last activity - registration date)\n",
        "merged_final['days_studied'] = merged_final['date_unregistration'] - merged_final['date_registration']\n"
      ],
      "metadata": {
        "id": "vK7Hg5UbPFAh"
      },
      "execution_count": null,
      "outputs": []
    },
    {
      "cell_type": "markdown",
      "source": [
        "New dataset features_df by combining important features for each student: their average score, number of assessments taken, total clicks, number of active days, study duration, and final course result. It merges these features step-by-step using the student ID."
      ],
      "metadata": {
        "id": "Zn_58gOPf8uQ"
      }
    },
    {
      "cell_type": "code",
      "source": [
        "# Start with avg_score\n",
        "features_df = avg_score.merge(num_assess, on='id_student', how='left')\n",
        "\n",
        "# Add click and activity features\n",
        "features_df = features_df.merge(merged_final[['id_student', 'total_clicks', 'active_days']].drop_duplicates(), on='id_student', how='left')\n",
        "\n",
        "# Add duration and final result\n",
        "features_df = features_df.merge(merged_final[['id_student', 'days_studied', 'final_result']].drop_duplicates(), on='id_student', how='left')\n"
      ],
      "metadata": {
        "id": "R9bLwKznPJtx"
      },
      "execution_count": null,
      "outputs": []
    },
    {
      "cell_type": "markdown",
      "source": [
        "suspected cheaters by flagging students with high scores (≥85) but low engagement, such as fewer than 50 total clicks, fewer than 5 active days, and less than 3 assessments completed. The is_cheater column is set to True for these students and False otherwise.\n"
      ],
      "metadata": {
        "id": "h6remG_xF9I3"
      }
    },
    {
      "cell_type": "code",
      "source": [
        "# Define suspected cheaters\n",
        "# These are students who got high scores with low engagement\n",
        "features_df['is_cheater'] = (\n",
        "    (features_df['avg_score'] >= 85) &\n",
        "    (features_df['total_clicks'] < 50) &\n",
        "    (features_df['active_days'] < 5) &\n",
        "    (features_df['num_assessments'] < 3)\n",
        ")\n"
      ],
      "metadata": {
        "id": "I1U6naf8PLI8"
      },
      "execution_count": null,
      "outputs": []
    },
    {
      "cell_type": "code",
      "source": [
        "# View suspected cheaters\n",
        "cheaters = features_df[features_df['is_cheater'] == True]\n",
        "print(\"Number of suspected cheaters:\", cheaters.shape[0])\n",
        "cheaters.head()\n"
      ],
      "metadata": {
        "colab": {
          "base_uri": "https://localhost:8080/",
          "height": 224
        },
        "id": "Bk3rrA_lPPNx",
        "outputId": "cf076ed3-3571-4268-e32f-ccb3b71a74d6"
      },
      "execution_count": null,
      "outputs": [
        {
          "output_type": "stream",
          "name": "stdout",
          "text": [
            "Number of suspected cheaters: 38\n"
          ]
        },
        {
          "output_type": "execute_result",
          "data": {
            "text/plain": [
              "      id_student  avg_score  num_assessments  total_clicks  active_days  \\\n",
              "15         25997       86.5                2          13.0          1.0   \n",
              "3490      380515      100.0                1          21.0          2.0   \n",
              "3586      384266      100.0                1          13.0          3.0   \n",
              "3628      386374       90.0                1          18.0          4.0   \n",
              "4402      425314      100.0                1          12.0          1.0   \n",
              "\n",
              "      days_studied final_result  is_cheater  \n",
              "15           222.0    Withdrawn        True  \n",
              "3490          98.0    Withdrawn        True  \n",
              "3586          48.0    Withdrawn        True  \n",
              "3628           NaN         Fail        True  \n",
              "4402          95.0    Withdrawn        True  "
            ],
            "text/html": [
              "\n",
              "  <div id=\"df-e06398f1-5d6c-4c65-b757-7bec1f6d1a49\" class=\"colab-df-container\">\n",
              "    <div>\n",
              "<style scoped>\n",
              "    .dataframe tbody tr th:only-of-type {\n",
              "        vertical-align: middle;\n",
              "    }\n",
              "\n",
              "    .dataframe tbody tr th {\n",
              "        vertical-align: top;\n",
              "    }\n",
              "\n",
              "    .dataframe thead th {\n",
              "        text-align: right;\n",
              "    }\n",
              "</style>\n",
              "<table border=\"1\" class=\"dataframe\">\n",
              "  <thead>\n",
              "    <tr style=\"text-align: right;\">\n",
              "      <th></th>\n",
              "      <th>id_student</th>\n",
              "      <th>avg_score</th>\n",
              "      <th>num_assessments</th>\n",
              "      <th>total_clicks</th>\n",
              "      <th>active_days</th>\n",
              "      <th>days_studied</th>\n",
              "      <th>final_result</th>\n",
              "      <th>is_cheater</th>\n",
              "    </tr>\n",
              "  </thead>\n",
              "  <tbody>\n",
              "    <tr>\n",
              "      <th>15</th>\n",
              "      <td>25997</td>\n",
              "      <td>86.5</td>\n",
              "      <td>2</td>\n",
              "      <td>13.0</td>\n",
              "      <td>1.0</td>\n",
              "      <td>222.0</td>\n",
              "      <td>Withdrawn</td>\n",
              "      <td>True</td>\n",
              "    </tr>\n",
              "    <tr>\n",
              "      <th>3490</th>\n",
              "      <td>380515</td>\n",
              "      <td>100.0</td>\n",
              "      <td>1</td>\n",
              "      <td>21.0</td>\n",
              "      <td>2.0</td>\n",
              "      <td>98.0</td>\n",
              "      <td>Withdrawn</td>\n",
              "      <td>True</td>\n",
              "    </tr>\n",
              "    <tr>\n",
              "      <th>3586</th>\n",
              "      <td>384266</td>\n",
              "      <td>100.0</td>\n",
              "      <td>1</td>\n",
              "      <td>13.0</td>\n",
              "      <td>3.0</td>\n",
              "      <td>48.0</td>\n",
              "      <td>Withdrawn</td>\n",
              "      <td>True</td>\n",
              "    </tr>\n",
              "    <tr>\n",
              "      <th>3628</th>\n",
              "      <td>386374</td>\n",
              "      <td>90.0</td>\n",
              "      <td>1</td>\n",
              "      <td>18.0</td>\n",
              "      <td>4.0</td>\n",
              "      <td>NaN</td>\n",
              "      <td>Fail</td>\n",
              "      <td>True</td>\n",
              "    </tr>\n",
              "    <tr>\n",
              "      <th>4402</th>\n",
              "      <td>425314</td>\n",
              "      <td>100.0</td>\n",
              "      <td>1</td>\n",
              "      <td>12.0</td>\n",
              "      <td>1.0</td>\n",
              "      <td>95.0</td>\n",
              "      <td>Withdrawn</td>\n",
              "      <td>True</td>\n",
              "    </tr>\n",
              "  </tbody>\n",
              "</table>\n",
              "</div>\n",
              "    <div class=\"colab-df-buttons\">\n",
              "\n",
              "  <div class=\"colab-df-container\">\n",
              "    <button class=\"colab-df-convert\" onclick=\"convertToInteractive('df-e06398f1-5d6c-4c65-b757-7bec1f6d1a49')\"\n",
              "            title=\"Convert this dataframe to an interactive table.\"\n",
              "            style=\"display:none;\">\n",
              "\n",
              "  <svg xmlns=\"http://www.w3.org/2000/svg\" height=\"24px\" viewBox=\"0 -960 960 960\">\n",
              "    <path d=\"M120-120v-720h720v720H120Zm60-500h600v-160H180v160Zm220 220h160v-160H400v160Zm0 220h160v-160H400v160ZM180-400h160v-160H180v160Zm440 0h160v-160H620v160ZM180-180h160v-160H180v160Zm440 0h160v-160H620v160Z\"/>\n",
              "  </svg>\n",
              "    </button>\n",
              "\n",
              "  <style>\n",
              "    .colab-df-container {\n",
              "      display:flex;\n",
              "      gap: 12px;\n",
              "    }\n",
              "\n",
              "    .colab-df-convert {\n",
              "      background-color: #E8F0FE;\n",
              "      border: none;\n",
              "      border-radius: 50%;\n",
              "      cursor: pointer;\n",
              "      display: none;\n",
              "      fill: #1967D2;\n",
              "      height: 32px;\n",
              "      padding: 0 0 0 0;\n",
              "      width: 32px;\n",
              "    }\n",
              "\n",
              "    .colab-df-convert:hover {\n",
              "      background-color: #E2EBFA;\n",
              "      box-shadow: 0px 1px 2px rgba(60, 64, 67, 0.3), 0px 1px 3px 1px rgba(60, 64, 67, 0.15);\n",
              "      fill: #174EA6;\n",
              "    }\n",
              "\n",
              "    .colab-df-buttons div {\n",
              "      margin-bottom: 4px;\n",
              "    }\n",
              "\n",
              "    [theme=dark] .colab-df-convert {\n",
              "      background-color: #3B4455;\n",
              "      fill: #D2E3FC;\n",
              "    }\n",
              "\n",
              "    [theme=dark] .colab-df-convert:hover {\n",
              "      background-color: #434B5C;\n",
              "      box-shadow: 0px 1px 3px 1px rgba(0, 0, 0, 0.15);\n",
              "      filter: drop-shadow(0px 1px 2px rgba(0, 0, 0, 0.3));\n",
              "      fill: #FFFFFF;\n",
              "    }\n",
              "  </style>\n",
              "\n",
              "    <script>\n",
              "      const buttonEl =\n",
              "        document.querySelector('#df-e06398f1-5d6c-4c65-b757-7bec1f6d1a49 button.colab-df-convert');\n",
              "      buttonEl.style.display =\n",
              "        google.colab.kernel.accessAllowed ? 'block' : 'none';\n",
              "\n",
              "      async function convertToInteractive(key) {\n",
              "        const element = document.querySelector('#df-e06398f1-5d6c-4c65-b757-7bec1f6d1a49');\n",
              "        const dataTable =\n",
              "          await google.colab.kernel.invokeFunction('convertToInteractive',\n",
              "                                                    [key], {});\n",
              "        if (!dataTable) return;\n",
              "\n",
              "        const docLinkHtml = 'Like what you see? Visit the ' +\n",
              "          '<a target=\"_blank\" href=https://colab.research.google.com/notebooks/data_table.ipynb>data table notebook</a>'\n",
              "          + ' to learn more about interactive tables.';\n",
              "        element.innerHTML = '';\n",
              "        dataTable['output_type'] = 'display_data';\n",
              "        await google.colab.output.renderOutput(dataTable, element);\n",
              "        const docLink = document.createElement('div');\n",
              "        docLink.innerHTML = docLinkHtml;\n",
              "        element.appendChild(docLink);\n",
              "      }\n",
              "    </script>\n",
              "  </div>\n",
              "\n",
              "\n",
              "    <div id=\"df-139da35f-4a60-47e1-b01c-c4b93975136f\">\n",
              "      <button class=\"colab-df-quickchart\" onclick=\"quickchart('df-139da35f-4a60-47e1-b01c-c4b93975136f')\"\n",
              "                title=\"Suggest charts\"\n",
              "                style=\"display:none;\">\n",
              "\n",
              "<svg xmlns=\"http://www.w3.org/2000/svg\" height=\"24px\"viewBox=\"0 0 24 24\"\n",
              "     width=\"24px\">\n",
              "    <g>\n",
              "        <path d=\"M19 3H5c-1.1 0-2 .9-2 2v14c0 1.1.9 2 2 2h14c1.1 0 2-.9 2-2V5c0-1.1-.9-2-2-2zM9 17H7v-7h2v7zm4 0h-2V7h2v10zm4 0h-2v-4h2v4z\"/>\n",
              "    </g>\n",
              "</svg>\n",
              "      </button>\n",
              "\n",
              "<style>\n",
              "  .colab-df-quickchart {\n",
              "      --bg-color: #E8F0FE;\n",
              "      --fill-color: #1967D2;\n",
              "      --hover-bg-color: #E2EBFA;\n",
              "      --hover-fill-color: #174EA6;\n",
              "      --disabled-fill-color: #AAA;\n",
              "      --disabled-bg-color: #DDD;\n",
              "  }\n",
              "\n",
              "  [theme=dark] .colab-df-quickchart {\n",
              "      --bg-color: #3B4455;\n",
              "      --fill-color: #D2E3FC;\n",
              "      --hover-bg-color: #434B5C;\n",
              "      --hover-fill-color: #FFFFFF;\n",
              "      --disabled-bg-color: #3B4455;\n",
              "      --disabled-fill-color: #666;\n",
              "  }\n",
              "\n",
              "  .colab-df-quickchart {\n",
              "    background-color: var(--bg-color);\n",
              "    border: none;\n",
              "    border-radius: 50%;\n",
              "    cursor: pointer;\n",
              "    display: none;\n",
              "    fill: var(--fill-color);\n",
              "    height: 32px;\n",
              "    padding: 0;\n",
              "    width: 32px;\n",
              "  }\n",
              "\n",
              "  .colab-df-quickchart:hover {\n",
              "    background-color: var(--hover-bg-color);\n",
              "    box-shadow: 0 1px 2px rgba(60, 64, 67, 0.3), 0 1px 3px 1px rgba(60, 64, 67, 0.15);\n",
              "    fill: var(--button-hover-fill-color);\n",
              "  }\n",
              "\n",
              "  .colab-df-quickchart-complete:disabled,\n",
              "  .colab-df-quickchart-complete:disabled:hover {\n",
              "    background-color: var(--disabled-bg-color);\n",
              "    fill: var(--disabled-fill-color);\n",
              "    box-shadow: none;\n",
              "  }\n",
              "\n",
              "  .colab-df-spinner {\n",
              "    border: 2px solid var(--fill-color);\n",
              "    border-color: transparent;\n",
              "    border-bottom-color: var(--fill-color);\n",
              "    animation:\n",
              "      spin 1s steps(1) infinite;\n",
              "  }\n",
              "\n",
              "  @keyframes spin {\n",
              "    0% {\n",
              "      border-color: transparent;\n",
              "      border-bottom-color: var(--fill-color);\n",
              "      border-left-color: var(--fill-color);\n",
              "    }\n",
              "    20% {\n",
              "      border-color: transparent;\n",
              "      border-left-color: var(--fill-color);\n",
              "      border-top-color: var(--fill-color);\n",
              "    }\n",
              "    30% {\n",
              "      border-color: transparent;\n",
              "      border-left-color: var(--fill-color);\n",
              "      border-top-color: var(--fill-color);\n",
              "      border-right-color: var(--fill-color);\n",
              "    }\n",
              "    40% {\n",
              "      border-color: transparent;\n",
              "      border-right-color: var(--fill-color);\n",
              "      border-top-color: var(--fill-color);\n",
              "    }\n",
              "    60% {\n",
              "      border-color: transparent;\n",
              "      border-right-color: var(--fill-color);\n",
              "    }\n",
              "    80% {\n",
              "      border-color: transparent;\n",
              "      border-right-color: var(--fill-color);\n",
              "      border-bottom-color: var(--fill-color);\n",
              "    }\n",
              "    90% {\n",
              "      border-color: transparent;\n",
              "      border-bottom-color: var(--fill-color);\n",
              "    }\n",
              "  }\n",
              "</style>\n",
              "\n",
              "      <script>\n",
              "        async function quickchart(key) {\n",
              "          const quickchartButtonEl =\n",
              "            document.querySelector('#' + key + ' button');\n",
              "          quickchartButtonEl.disabled = true;  // To prevent multiple clicks.\n",
              "          quickchartButtonEl.classList.add('colab-df-spinner');\n",
              "          try {\n",
              "            const charts = await google.colab.kernel.invokeFunction(\n",
              "                'suggestCharts', [key], {});\n",
              "          } catch (error) {\n",
              "            console.error('Error during call to suggestCharts:', error);\n",
              "          }\n",
              "          quickchartButtonEl.classList.remove('colab-df-spinner');\n",
              "          quickchartButtonEl.classList.add('colab-df-quickchart-complete');\n",
              "        }\n",
              "        (() => {\n",
              "          let quickchartButtonEl =\n",
              "            document.querySelector('#df-139da35f-4a60-47e1-b01c-c4b93975136f button');\n",
              "          quickchartButtonEl.style.display =\n",
              "            google.colab.kernel.accessAllowed ? 'block' : 'none';\n",
              "        })();\n",
              "      </script>\n",
              "    </div>\n",
              "\n",
              "    </div>\n",
              "  </div>\n"
            ],
            "application/vnd.google.colaboratory.intrinsic+json": {
              "type": "dataframe",
              "variable_name": "cheaters",
              "summary": "{\n  \"name\": \"cheaters\",\n  \"rows\": 38,\n  \"fields\": [\n    {\n      \"column\": \"id_student\",\n      \"properties\": {\n        \"dtype\": \"number\",\n        \"std\": 445057,\n        \"min\": 25997,\n        \"max\": 2497189,\n        \"num_unique_values\": 38,\n        \"samples\": [\n          689107,\n          2399380,\n          425314\n        ],\n        \"semantic_type\": \"\",\n        \"description\": \"\"\n      }\n    },\n    {\n      \"column\": \"avg_score\",\n      \"properties\": {\n        \"dtype\": \"number\",\n        \"std\": 6.0229675393517885,\n        \"min\": 85.0,\n        \"max\": 100.0,\n        \"num_unique_values\": 10,\n        \"samples\": [\n          88.0,\n          100.0,\n          86.0\n        ],\n        \"semantic_type\": \"\",\n        \"description\": \"\"\n      }\n    },\n    {\n      \"column\": \"num_assessments\",\n      \"properties\": {\n        \"dtype\": \"number\",\n        \"std\": 0,\n        \"min\": 1,\n        \"max\": 2,\n        \"num_unique_values\": 2,\n        \"samples\": [\n          1,\n          2\n        ],\n        \"semantic_type\": \"\",\n        \"description\": \"\"\n      }\n    },\n    {\n      \"column\": \"total_clicks\",\n      \"properties\": {\n        \"dtype\": \"number\",\n        \"std\": 13.965411448555813,\n        \"min\": 1.0,\n        \"max\": 48.0,\n        \"num_unique_values\": 26,\n        \"samples\": [\n          48.0,\n          26.0\n        ],\n        \"semantic_type\": \"\",\n        \"description\": \"\"\n      }\n    },\n    {\n      \"column\": \"active_days\",\n      \"properties\": {\n        \"dtype\": \"number\",\n        \"std\": 1.032887375280686,\n        \"min\": 1.0,\n        \"max\": 4.0,\n        \"num_unique_values\": 4,\n        \"samples\": [\n          2.0,\n          4.0\n        ],\n        \"semantic_type\": \"\",\n        \"description\": \"\"\n      }\n    },\n    {\n      \"column\": \"days_studied\",\n      \"properties\": {\n        \"dtype\": \"number\",\n        \"std\": 63.58354939466015,\n        \"min\": 33.0,\n        \"max\": 222.0,\n        \"num_unique_values\": 24,\n        \"samples\": [\n          214.0,\n          86.0\n        ],\n        \"semantic_type\": \"\",\n        \"description\": \"\"\n      }\n    },\n    {\n      \"column\": \"final_result\",\n      \"properties\": {\n        \"dtype\": \"string\",\n        \"num_unique_values\": 2,\n        \"samples\": [\n          \"Fail\",\n          \"Withdrawn\"\n        ],\n        \"semantic_type\": \"\",\n        \"description\": \"\"\n      }\n    },\n    {\n      \"column\": \"is_cheater\",\n      \"properties\": {\n        \"dtype\": \"boolean\",\n        \"num_unique_values\": 1,\n        \"samples\": [\n          true\n        ],\n        \"semantic_type\": \"\",\n        \"description\": \"\"\n      }\n    }\n  ]\n}"
            }
          },
          "metadata": {},
          "execution_count": 13
        }
      ]
    },
    {
      "cell_type": "markdown",
      "source": [
        "# **Detecting Cheaters Using Isolation Forest (Anomaly Detection)**\n",
        "prepares numeric student features, fills missing values with 0, and scales the data using StandardScaler. An Isolation Forest model is then trained to detect anomalies, labeling students with unusual behavior (e.g., high score but low activity) as potential cheaters. Those flagged as anomalies (-1) are marked in a new column is_cheater_ml, and the number of such students is displayed."
      ],
      "metadata": {
        "id": "MSQ4TRm6V9Ym"
      }
    },
    {
      "cell_type": "code",
      "source": [
        "!pip install -q scikit-learn\n",
        "\n",
        "import pandas as pd\n",
        "from sklearn.ensemble import IsolationForest\n",
        "from sklearn.preprocessing import StandardScaler\n"
      ],
      "metadata": {
        "id": "E2fIQWVnPUP4"
      },
      "execution_count": null,
      "outputs": []
    },
    {
      "cell_type": "code",
      "source": [
        "# Drop non-numeric / identifier columns\n",
        "X = features_df[['avg_score', 'num_assessments', 'total_clicks', 'active_days', 'days_studied']].copy()\n",
        "\n",
        "# Fill missing values\n",
        "X.fillna(0, inplace=True)\n",
        "\n",
        "# Scale the data\n",
        "scaler = StandardScaler()\n",
        "X_scaled = scaler.fit_transform(X)\n"
      ],
      "metadata": {
        "id": "ORAHVXSzuwjw"
      },
      "execution_count": null,
      "outputs": []
    },
    {
      "cell_type": "code",
      "source": [
        "# Train Isolation Forest\n",
        "iso_model = IsolationForest(n_estimators=100, contamination=0.05, random_state=42)\n",
        "features_df['anomaly_score'] = iso_model.fit_predict(X_scaled)\n",
        "\n",
        "# Add label: -1 = anomaly (potential cheater), 1 = normal\n",
        "features_df['is_cheater_ml'] = features_df['anomaly_score'] == -1\n"
      ],
      "metadata": {
        "id": "c_yauOycpj7S"
      },
      "execution_count": null,
      "outputs": []
    },
    {
      "cell_type": "code",
      "source": [
        "# Show suspected cheaters\n",
        "ml_cheaters = features_df[features_df['is_cheater_ml']]\n",
        "print(\"Total suspected cheaters (ML):\", ml_cheaters.shape[0])\n",
        "ml_cheaters.head()\n"
      ],
      "metadata": {
        "colab": {
          "base_uri": "https://localhost:8080/",
          "height": 244
        },
        "id": "xcX13cSKsP5P",
        "outputId": "d9c42a0d-2060-4bb4-d61b-4b751c0fbd52"
      },
      "execution_count": null,
      "outputs": [
        {
          "output_type": "stream",
          "name": "stdout",
          "text": [
            "Total suspected cheaters (ML): 1253\n"
          ]
        },
        {
          "output_type": "execute_result",
          "data": {
            "text/plain": [
              "     id_student  avg_score  num_assessments  total_clicks  active_days  \\\n",
              "18        26211  89.250000               12       15205.0        248.0   \n",
              "45        29639  83.769231               13       10503.0        271.0   \n",
              "95        35355  75.222222                9        3358.0        150.0   \n",
              "132       42638  72.384615               13       11845.0        252.0   \n",
              "134       42746  94.571429               21       10673.0        219.0   \n",
              "\n",
              "     days_studied final_result  is_cheater  anomaly_score  is_cheater_ml  \n",
              "18            NaN         Pass       False             -1           True  \n",
              "45            NaN         Pass       False             -1           True  \n",
              "95          224.0    Withdrawn       False             -1           True  \n",
              "132           NaN         Pass       False             -1           True  \n",
              "134           NaN  Distinction       False             -1           True  "
            ],
            "text/html": [
              "\n",
              "  <div id=\"df-2d8fe31b-89dc-4d4d-b741-cf78dbf79b2b\" class=\"colab-df-container\">\n",
              "    <div>\n",
              "<style scoped>\n",
              "    .dataframe tbody tr th:only-of-type {\n",
              "        vertical-align: middle;\n",
              "    }\n",
              "\n",
              "    .dataframe tbody tr th {\n",
              "        vertical-align: top;\n",
              "    }\n",
              "\n",
              "    .dataframe thead th {\n",
              "        text-align: right;\n",
              "    }\n",
              "</style>\n",
              "<table border=\"1\" class=\"dataframe\">\n",
              "  <thead>\n",
              "    <tr style=\"text-align: right;\">\n",
              "      <th></th>\n",
              "      <th>id_student</th>\n",
              "      <th>avg_score</th>\n",
              "      <th>num_assessments</th>\n",
              "      <th>total_clicks</th>\n",
              "      <th>active_days</th>\n",
              "      <th>days_studied</th>\n",
              "      <th>final_result</th>\n",
              "      <th>is_cheater</th>\n",
              "      <th>anomaly_score</th>\n",
              "      <th>is_cheater_ml</th>\n",
              "    </tr>\n",
              "  </thead>\n",
              "  <tbody>\n",
              "    <tr>\n",
              "      <th>18</th>\n",
              "      <td>26211</td>\n",
              "      <td>89.250000</td>\n",
              "      <td>12</td>\n",
              "      <td>15205.0</td>\n",
              "      <td>248.0</td>\n",
              "      <td>NaN</td>\n",
              "      <td>Pass</td>\n",
              "      <td>False</td>\n",
              "      <td>-1</td>\n",
              "      <td>True</td>\n",
              "    </tr>\n",
              "    <tr>\n",
              "      <th>45</th>\n",
              "      <td>29639</td>\n",
              "      <td>83.769231</td>\n",
              "      <td>13</td>\n",
              "      <td>10503.0</td>\n",
              "      <td>271.0</td>\n",
              "      <td>NaN</td>\n",
              "      <td>Pass</td>\n",
              "      <td>False</td>\n",
              "      <td>-1</td>\n",
              "      <td>True</td>\n",
              "    </tr>\n",
              "    <tr>\n",
              "      <th>95</th>\n",
              "      <td>35355</td>\n",
              "      <td>75.222222</td>\n",
              "      <td>9</td>\n",
              "      <td>3358.0</td>\n",
              "      <td>150.0</td>\n",
              "      <td>224.0</td>\n",
              "      <td>Withdrawn</td>\n",
              "      <td>False</td>\n",
              "      <td>-1</td>\n",
              "      <td>True</td>\n",
              "    </tr>\n",
              "    <tr>\n",
              "      <th>132</th>\n",
              "      <td>42638</td>\n",
              "      <td>72.384615</td>\n",
              "      <td>13</td>\n",
              "      <td>11845.0</td>\n",
              "      <td>252.0</td>\n",
              "      <td>NaN</td>\n",
              "      <td>Pass</td>\n",
              "      <td>False</td>\n",
              "      <td>-1</td>\n",
              "      <td>True</td>\n",
              "    </tr>\n",
              "    <tr>\n",
              "      <th>134</th>\n",
              "      <td>42746</td>\n",
              "      <td>94.571429</td>\n",
              "      <td>21</td>\n",
              "      <td>10673.0</td>\n",
              "      <td>219.0</td>\n",
              "      <td>NaN</td>\n",
              "      <td>Distinction</td>\n",
              "      <td>False</td>\n",
              "      <td>-1</td>\n",
              "      <td>True</td>\n",
              "    </tr>\n",
              "  </tbody>\n",
              "</table>\n",
              "</div>\n",
              "    <div class=\"colab-df-buttons\">\n",
              "\n",
              "  <div class=\"colab-df-container\">\n",
              "    <button class=\"colab-df-convert\" onclick=\"convertToInteractive('df-2d8fe31b-89dc-4d4d-b741-cf78dbf79b2b')\"\n",
              "            title=\"Convert this dataframe to an interactive table.\"\n",
              "            style=\"display:none;\">\n",
              "\n",
              "  <svg xmlns=\"http://www.w3.org/2000/svg\" height=\"24px\" viewBox=\"0 -960 960 960\">\n",
              "    <path d=\"M120-120v-720h720v720H120Zm60-500h600v-160H180v160Zm220 220h160v-160H400v160Zm0 220h160v-160H400v160ZM180-400h160v-160H180v160Zm440 0h160v-160H620v160ZM180-180h160v-160H180v160Zm440 0h160v-160H620v160Z\"/>\n",
              "  </svg>\n",
              "    </button>\n",
              "\n",
              "  <style>\n",
              "    .colab-df-container {\n",
              "      display:flex;\n",
              "      gap: 12px;\n",
              "    }\n",
              "\n",
              "    .colab-df-convert {\n",
              "      background-color: #E8F0FE;\n",
              "      border: none;\n",
              "      border-radius: 50%;\n",
              "      cursor: pointer;\n",
              "      display: none;\n",
              "      fill: #1967D2;\n",
              "      height: 32px;\n",
              "      padding: 0 0 0 0;\n",
              "      width: 32px;\n",
              "    }\n",
              "\n",
              "    .colab-df-convert:hover {\n",
              "      background-color: #E2EBFA;\n",
              "      box-shadow: 0px 1px 2px rgba(60, 64, 67, 0.3), 0px 1px 3px 1px rgba(60, 64, 67, 0.15);\n",
              "      fill: #174EA6;\n",
              "    }\n",
              "\n",
              "    .colab-df-buttons div {\n",
              "      margin-bottom: 4px;\n",
              "    }\n",
              "\n",
              "    [theme=dark] .colab-df-convert {\n",
              "      background-color: #3B4455;\n",
              "      fill: #D2E3FC;\n",
              "    }\n",
              "\n",
              "    [theme=dark] .colab-df-convert:hover {\n",
              "      background-color: #434B5C;\n",
              "      box-shadow: 0px 1px 3px 1px rgba(0, 0, 0, 0.15);\n",
              "      filter: drop-shadow(0px 1px 2px rgba(0, 0, 0, 0.3));\n",
              "      fill: #FFFFFF;\n",
              "    }\n",
              "  </style>\n",
              "\n",
              "    <script>\n",
              "      const buttonEl =\n",
              "        document.querySelector('#df-2d8fe31b-89dc-4d4d-b741-cf78dbf79b2b button.colab-df-convert');\n",
              "      buttonEl.style.display =\n",
              "        google.colab.kernel.accessAllowed ? 'block' : 'none';\n",
              "\n",
              "      async function convertToInteractive(key) {\n",
              "        const element = document.querySelector('#df-2d8fe31b-89dc-4d4d-b741-cf78dbf79b2b');\n",
              "        const dataTable =\n",
              "          await google.colab.kernel.invokeFunction('convertToInteractive',\n",
              "                                                    [key], {});\n",
              "        if (!dataTable) return;\n",
              "\n",
              "        const docLinkHtml = 'Like what you see? Visit the ' +\n",
              "          '<a target=\"_blank\" href=https://colab.research.google.com/notebooks/data_table.ipynb>data table notebook</a>'\n",
              "          + ' to learn more about interactive tables.';\n",
              "        element.innerHTML = '';\n",
              "        dataTable['output_type'] = 'display_data';\n",
              "        await google.colab.output.renderOutput(dataTable, element);\n",
              "        const docLink = document.createElement('div');\n",
              "        docLink.innerHTML = docLinkHtml;\n",
              "        element.appendChild(docLink);\n",
              "      }\n",
              "    </script>\n",
              "  </div>\n",
              "\n",
              "\n",
              "    <div id=\"df-d92a7857-cc75-4b2e-b65b-6b5a68cade54\">\n",
              "      <button class=\"colab-df-quickchart\" onclick=\"quickchart('df-d92a7857-cc75-4b2e-b65b-6b5a68cade54')\"\n",
              "                title=\"Suggest charts\"\n",
              "                style=\"display:none;\">\n",
              "\n",
              "<svg xmlns=\"http://www.w3.org/2000/svg\" height=\"24px\"viewBox=\"0 0 24 24\"\n",
              "     width=\"24px\">\n",
              "    <g>\n",
              "        <path d=\"M19 3H5c-1.1 0-2 .9-2 2v14c0 1.1.9 2 2 2h14c1.1 0 2-.9 2-2V5c0-1.1-.9-2-2-2zM9 17H7v-7h2v7zm4 0h-2V7h2v10zm4 0h-2v-4h2v4z\"/>\n",
              "    </g>\n",
              "</svg>\n",
              "      </button>\n",
              "\n",
              "<style>\n",
              "  .colab-df-quickchart {\n",
              "      --bg-color: #E8F0FE;\n",
              "      --fill-color: #1967D2;\n",
              "      --hover-bg-color: #E2EBFA;\n",
              "      --hover-fill-color: #174EA6;\n",
              "      --disabled-fill-color: #AAA;\n",
              "      --disabled-bg-color: #DDD;\n",
              "  }\n",
              "\n",
              "  [theme=dark] .colab-df-quickchart {\n",
              "      --bg-color: #3B4455;\n",
              "      --fill-color: #D2E3FC;\n",
              "      --hover-bg-color: #434B5C;\n",
              "      --hover-fill-color: #FFFFFF;\n",
              "      --disabled-bg-color: #3B4455;\n",
              "      --disabled-fill-color: #666;\n",
              "  }\n",
              "\n",
              "  .colab-df-quickchart {\n",
              "    background-color: var(--bg-color);\n",
              "    border: none;\n",
              "    border-radius: 50%;\n",
              "    cursor: pointer;\n",
              "    display: none;\n",
              "    fill: var(--fill-color);\n",
              "    height: 32px;\n",
              "    padding: 0;\n",
              "    width: 32px;\n",
              "  }\n",
              "\n",
              "  .colab-df-quickchart:hover {\n",
              "    background-color: var(--hover-bg-color);\n",
              "    box-shadow: 0 1px 2px rgba(60, 64, 67, 0.3), 0 1px 3px 1px rgba(60, 64, 67, 0.15);\n",
              "    fill: var(--button-hover-fill-color);\n",
              "  }\n",
              "\n",
              "  .colab-df-quickchart-complete:disabled,\n",
              "  .colab-df-quickchart-complete:disabled:hover {\n",
              "    background-color: var(--disabled-bg-color);\n",
              "    fill: var(--disabled-fill-color);\n",
              "    box-shadow: none;\n",
              "  }\n",
              "\n",
              "  .colab-df-spinner {\n",
              "    border: 2px solid var(--fill-color);\n",
              "    border-color: transparent;\n",
              "    border-bottom-color: var(--fill-color);\n",
              "    animation:\n",
              "      spin 1s steps(1) infinite;\n",
              "  }\n",
              "\n",
              "  @keyframes spin {\n",
              "    0% {\n",
              "      border-color: transparent;\n",
              "      border-bottom-color: var(--fill-color);\n",
              "      border-left-color: var(--fill-color);\n",
              "    }\n",
              "    20% {\n",
              "      border-color: transparent;\n",
              "      border-left-color: var(--fill-color);\n",
              "      border-top-color: var(--fill-color);\n",
              "    }\n",
              "    30% {\n",
              "      border-color: transparent;\n",
              "      border-left-color: var(--fill-color);\n",
              "      border-top-color: var(--fill-color);\n",
              "      border-right-color: var(--fill-color);\n",
              "    }\n",
              "    40% {\n",
              "      border-color: transparent;\n",
              "      border-right-color: var(--fill-color);\n",
              "      border-top-color: var(--fill-color);\n",
              "    }\n",
              "    60% {\n",
              "      border-color: transparent;\n",
              "      border-right-color: var(--fill-color);\n",
              "    }\n",
              "    80% {\n",
              "      border-color: transparent;\n",
              "      border-right-color: var(--fill-color);\n",
              "      border-bottom-color: var(--fill-color);\n",
              "    }\n",
              "    90% {\n",
              "      border-color: transparent;\n",
              "      border-bottom-color: var(--fill-color);\n",
              "    }\n",
              "  }\n",
              "</style>\n",
              "\n",
              "      <script>\n",
              "        async function quickchart(key) {\n",
              "          const quickchartButtonEl =\n",
              "            document.querySelector('#' + key + ' button');\n",
              "          quickchartButtonEl.disabled = true;  // To prevent multiple clicks.\n",
              "          quickchartButtonEl.classList.add('colab-df-spinner');\n",
              "          try {\n",
              "            const charts = await google.colab.kernel.invokeFunction(\n",
              "                'suggestCharts', [key], {});\n",
              "          } catch (error) {\n",
              "            console.error('Error during call to suggestCharts:', error);\n",
              "          }\n",
              "          quickchartButtonEl.classList.remove('colab-df-spinner');\n",
              "          quickchartButtonEl.classList.add('colab-df-quickchart-complete');\n",
              "        }\n",
              "        (() => {\n",
              "          let quickchartButtonEl =\n",
              "            document.querySelector('#df-d92a7857-cc75-4b2e-b65b-6b5a68cade54 button');\n",
              "          quickchartButtonEl.style.display =\n",
              "            google.colab.kernel.accessAllowed ? 'block' : 'none';\n",
              "        })();\n",
              "      </script>\n",
              "    </div>\n",
              "\n",
              "    </div>\n",
              "  </div>\n"
            ],
            "application/vnd.google.colaboratory.intrinsic+json": {
              "type": "dataframe",
              "variable_name": "ml_cheaters",
              "summary": "{\n  \"name\": \"ml_cheaters\",\n  \"rows\": 1253,\n  \"fields\": [\n    {\n      \"column\": \"id_student\",\n      \"properties\": {\n        \"dtype\": \"number\",\n        \"std\": 598717,\n        \"min\": 26211,\n        \"max\": 2698535,\n        \"num_unique_values\": 1106,\n        \"samples\": [\n          526819,\n          621696,\n          173412\n        ],\n        \"semantic_type\": \"\",\n        \"description\": \"\"\n      }\n    },\n    {\n      \"column\": \"avg_score\",\n      \"properties\": {\n        \"dtype\": \"number\",\n        \"std\": 28.461816890450805,\n        \"min\": 0.0,\n        \"max\": 100.0,\n        \"num_unique_values\": 773,\n        \"samples\": [\n          71.38461538461539,\n          68.8,\n          66.06666666666666\n        ],\n        \"semantic_type\": \"\",\n        \"description\": \"\"\n      }\n    },\n    {\n      \"column\": \"num_assessments\",\n      \"properties\": {\n        \"dtype\": \"number\",\n        \"std\": 7,\n        \"min\": 1,\n        \"max\": 28,\n        \"num_unique_values\": 26,\n        \"samples\": [\n          19,\n          8,\n          12\n        ],\n        \"semantic_type\": \"\",\n        \"description\": \"\"\n      }\n    },\n    {\n      \"column\": \"total_clicks\",\n      \"properties\": {\n        \"dtype\": \"number\",\n        \"std\": 4656.336339426614,\n        \"min\": 4.0,\n        \"max\": 28615.0,\n        \"num_unique_values\": 1020,\n        \"samples\": [\n          6170.0,\n          175.0,\n          1615.0\n        ],\n        \"semantic_type\": \"\",\n        \"description\": \"\"\n      }\n    },\n    {\n      \"column\": \"active_days\",\n      \"properties\": {\n        \"dtype\": \"number\",\n        \"std\": 85.38477427210087,\n        \"min\": 1.0,\n        \"max\": 286.0,\n        \"num_unique_values\": 273,\n        \"samples\": [\n          27.0,\n          283.0,\n          228.0\n        ],\n        \"semantic_type\": \"\",\n        \"description\": \"\"\n      }\n    },\n    {\n      \"column\": \"days_studied\",\n      \"properties\": {\n        \"dtype\": \"number\",\n        \"std\": 93.84385585678109,\n        \"min\": 21.0,\n        \"max\": 531.0,\n        \"num_unique_values\": 297,\n        \"samples\": [\n          163.0,\n          383.0,\n          344.0\n        ],\n        \"semantic_type\": \"\",\n        \"description\": \"\"\n      }\n    },\n    {\n      \"column\": \"final_result\",\n      \"properties\": {\n        \"dtype\": \"string\",\n        \"num_unique_values\": 4,\n        \"samples\": [\n          \"Withdrawn\",\n          \"Fail\",\n          \"Pass\"\n        ],\n        \"semantic_type\": \"\",\n        \"description\": \"\"\n      }\n    },\n    {\n      \"column\": \"is_cheater\",\n      \"properties\": {\n        \"dtype\": \"boolean\",\n        \"num_unique_values\": 2,\n        \"samples\": [\n          true,\n          false\n        ],\n        \"semantic_type\": \"\",\n        \"description\": \"\"\n      }\n    },\n    {\n      \"column\": \"anomaly_score\",\n      \"properties\": {\n        \"dtype\": \"number\",\n        \"std\": 0,\n        \"min\": -1,\n        \"max\": -1,\n        \"num_unique_values\": 1,\n        \"samples\": [\n          -1\n        ],\n        \"semantic_type\": \"\",\n        \"description\": \"\"\n      }\n    },\n    {\n      \"column\": \"is_cheater_ml\",\n      \"properties\": {\n        \"dtype\": \"boolean\",\n        \"num_unique_values\": 1,\n        \"samples\": [\n          true\n        ],\n        \"semantic_type\": \"\",\n        \"description\": \"\"\n      }\n    }\n  ]\n}"
            }
          },
          "metadata": {},
          "execution_count": 17
        }
      ]
    },
    {
      "cell_type": "code",
      "source": [
        "ml_cheaters.to_csv('/content/drive/MyDrive/mltask2/ml_suspected_cheaters.csv', index=False)\n"
      ],
      "metadata": {
        "id": "FgFBE2mGrbo5"
      },
      "execution_count": null,
      "outputs": []
    },
    {
      "cell_type": "markdown",
      "source": [
        "# **Comparing Rule-Based and ML-Based Cheater Detection**\n",
        "compares students flagged as cheaters by both the rule-based method (is_cheater) and the machine learning model (is_cheater_ml). A new column cheater_status categorizes each student as \"Both\", \"Rule-Based Only\", \"ML-Based Only\", or \"Neither\". Finally, it summarizes the count of students in each category."
      ],
      "metadata": {
        "id": "X_4pEeNJWRPq"
      }
    },
    {
      "cell_type": "code",
      "source": [
        "# Ensure both columns exist\n",
        "comparison_df = features_df[['id_student', 'avg_score', 'total_clicks', 'days_studied', 'is_cheater', 'is_cheater_ml']]\n"
      ],
      "metadata": {
        "id": "uf1BqzIJskpZ"
      },
      "execution_count": null,
      "outputs": []
    },
    {
      "cell_type": "code",
      "source": [
        "# Create a summary column\n",
        "comparison_df['cheater_status'] = comparison_df.apply(\n",
        "    lambda row: 'Both' if row['is_cheater'] and row['is_cheater_ml']\n",
        "    else 'Rule-Based Only' if row['is_cheater']\n",
        "    else 'ML-Based Only' if row['is_cheater_ml']\n",
        "    else 'Neither', axis=1)\n",
        "\n",
        "# Count of each category\n",
        "cheater_summary = comparison_df['cheater_status'].value_counts().reset_index()\n",
        "cheater_summary.columns = ['Cheater Type', 'Number of Students']\n",
        "cheater_summary\n"
      ],
      "metadata": {
        "colab": {
          "base_uri": "https://localhost:8080/",
          "height": 299
        },
        "id": "obdjcgIRsb20",
        "outputId": "713ca16a-b17b-4812-eac9-bb51831af8ba"
      },
      "execution_count": null,
      "outputs": [
        {
          "output_type": "stream",
          "name": "stderr",
          "text": [
            "<ipython-input-20-ca9c1d705236>:2: SettingWithCopyWarning: \n",
            "A value is trying to be set on a copy of a slice from a DataFrame.\n",
            "Try using .loc[row_indexer,col_indexer] = value instead\n",
            "\n",
            "See the caveats in the documentation: https://pandas.pydata.org/pandas-docs/stable/user_guide/indexing.html#returning-a-view-versus-a-copy\n",
            "  comparison_df['cheater_status'] = comparison_df.apply(\n"
          ]
        },
        {
          "output_type": "execute_result",
          "data": {
            "text/plain": [
              "      Cheater Type  Number of Students\n",
              "0          Neither               23757\n",
              "1    ML-Based Only                1252\n",
              "2  Rule-Based Only                  37\n",
              "3             Both                   1"
            ],
            "text/html": [
              "\n",
              "  <div id=\"df-6b341102-cec7-463f-b025-448049e901e4\" class=\"colab-df-container\">\n",
              "    <div>\n",
              "<style scoped>\n",
              "    .dataframe tbody tr th:only-of-type {\n",
              "        vertical-align: middle;\n",
              "    }\n",
              "\n",
              "    .dataframe tbody tr th {\n",
              "        vertical-align: top;\n",
              "    }\n",
              "\n",
              "    .dataframe thead th {\n",
              "        text-align: right;\n",
              "    }\n",
              "</style>\n",
              "<table border=\"1\" class=\"dataframe\">\n",
              "  <thead>\n",
              "    <tr style=\"text-align: right;\">\n",
              "      <th></th>\n",
              "      <th>Cheater Type</th>\n",
              "      <th>Number of Students</th>\n",
              "    </tr>\n",
              "  </thead>\n",
              "  <tbody>\n",
              "    <tr>\n",
              "      <th>0</th>\n",
              "      <td>Neither</td>\n",
              "      <td>23757</td>\n",
              "    </tr>\n",
              "    <tr>\n",
              "      <th>1</th>\n",
              "      <td>ML-Based Only</td>\n",
              "      <td>1252</td>\n",
              "    </tr>\n",
              "    <tr>\n",
              "      <th>2</th>\n",
              "      <td>Rule-Based Only</td>\n",
              "      <td>37</td>\n",
              "    </tr>\n",
              "    <tr>\n",
              "      <th>3</th>\n",
              "      <td>Both</td>\n",
              "      <td>1</td>\n",
              "    </tr>\n",
              "  </tbody>\n",
              "</table>\n",
              "</div>\n",
              "    <div class=\"colab-df-buttons\">\n",
              "\n",
              "  <div class=\"colab-df-container\">\n",
              "    <button class=\"colab-df-convert\" onclick=\"convertToInteractive('df-6b341102-cec7-463f-b025-448049e901e4')\"\n",
              "            title=\"Convert this dataframe to an interactive table.\"\n",
              "            style=\"display:none;\">\n",
              "\n",
              "  <svg xmlns=\"http://www.w3.org/2000/svg\" height=\"24px\" viewBox=\"0 -960 960 960\">\n",
              "    <path d=\"M120-120v-720h720v720H120Zm60-500h600v-160H180v160Zm220 220h160v-160H400v160Zm0 220h160v-160H400v160ZM180-400h160v-160H180v160Zm440 0h160v-160H620v160ZM180-180h160v-160H180v160Zm440 0h160v-160H620v160Z\"/>\n",
              "  </svg>\n",
              "    </button>\n",
              "\n",
              "  <style>\n",
              "    .colab-df-container {\n",
              "      display:flex;\n",
              "      gap: 12px;\n",
              "    }\n",
              "\n",
              "    .colab-df-convert {\n",
              "      background-color: #E8F0FE;\n",
              "      border: none;\n",
              "      border-radius: 50%;\n",
              "      cursor: pointer;\n",
              "      display: none;\n",
              "      fill: #1967D2;\n",
              "      height: 32px;\n",
              "      padding: 0 0 0 0;\n",
              "      width: 32px;\n",
              "    }\n",
              "\n",
              "    .colab-df-convert:hover {\n",
              "      background-color: #E2EBFA;\n",
              "      box-shadow: 0px 1px 2px rgba(60, 64, 67, 0.3), 0px 1px 3px 1px rgba(60, 64, 67, 0.15);\n",
              "      fill: #174EA6;\n",
              "    }\n",
              "\n",
              "    .colab-df-buttons div {\n",
              "      margin-bottom: 4px;\n",
              "    }\n",
              "\n",
              "    [theme=dark] .colab-df-convert {\n",
              "      background-color: #3B4455;\n",
              "      fill: #D2E3FC;\n",
              "    }\n",
              "\n",
              "    [theme=dark] .colab-df-convert:hover {\n",
              "      background-color: #434B5C;\n",
              "      box-shadow: 0px 1px 3px 1px rgba(0, 0, 0, 0.15);\n",
              "      filter: drop-shadow(0px 1px 2px rgba(0, 0, 0, 0.3));\n",
              "      fill: #FFFFFF;\n",
              "    }\n",
              "  </style>\n",
              "\n",
              "    <script>\n",
              "      const buttonEl =\n",
              "        document.querySelector('#df-6b341102-cec7-463f-b025-448049e901e4 button.colab-df-convert');\n",
              "      buttonEl.style.display =\n",
              "        google.colab.kernel.accessAllowed ? 'block' : 'none';\n",
              "\n",
              "      async function convertToInteractive(key) {\n",
              "        const element = document.querySelector('#df-6b341102-cec7-463f-b025-448049e901e4');\n",
              "        const dataTable =\n",
              "          await google.colab.kernel.invokeFunction('convertToInteractive',\n",
              "                                                    [key], {});\n",
              "        if (!dataTable) return;\n",
              "\n",
              "        const docLinkHtml = 'Like what you see? Visit the ' +\n",
              "          '<a target=\"_blank\" href=https://colab.research.google.com/notebooks/data_table.ipynb>data table notebook</a>'\n",
              "          + ' to learn more about interactive tables.';\n",
              "        element.innerHTML = '';\n",
              "        dataTable['output_type'] = 'display_data';\n",
              "        await google.colab.output.renderOutput(dataTable, element);\n",
              "        const docLink = document.createElement('div');\n",
              "        docLink.innerHTML = docLinkHtml;\n",
              "        element.appendChild(docLink);\n",
              "      }\n",
              "    </script>\n",
              "  </div>\n",
              "\n",
              "\n",
              "    <div id=\"df-44e8d13d-6e85-4284-b739-4f012f541519\">\n",
              "      <button class=\"colab-df-quickchart\" onclick=\"quickchart('df-44e8d13d-6e85-4284-b739-4f012f541519')\"\n",
              "                title=\"Suggest charts\"\n",
              "                style=\"display:none;\">\n",
              "\n",
              "<svg xmlns=\"http://www.w3.org/2000/svg\" height=\"24px\"viewBox=\"0 0 24 24\"\n",
              "     width=\"24px\">\n",
              "    <g>\n",
              "        <path d=\"M19 3H5c-1.1 0-2 .9-2 2v14c0 1.1.9 2 2 2h14c1.1 0 2-.9 2-2V5c0-1.1-.9-2-2-2zM9 17H7v-7h2v7zm4 0h-2V7h2v10zm4 0h-2v-4h2v4z\"/>\n",
              "    </g>\n",
              "</svg>\n",
              "      </button>\n",
              "\n",
              "<style>\n",
              "  .colab-df-quickchart {\n",
              "      --bg-color: #E8F0FE;\n",
              "      --fill-color: #1967D2;\n",
              "      --hover-bg-color: #E2EBFA;\n",
              "      --hover-fill-color: #174EA6;\n",
              "      --disabled-fill-color: #AAA;\n",
              "      --disabled-bg-color: #DDD;\n",
              "  }\n",
              "\n",
              "  [theme=dark] .colab-df-quickchart {\n",
              "      --bg-color: #3B4455;\n",
              "      --fill-color: #D2E3FC;\n",
              "      --hover-bg-color: #434B5C;\n",
              "      --hover-fill-color: #FFFFFF;\n",
              "      --disabled-bg-color: #3B4455;\n",
              "      --disabled-fill-color: #666;\n",
              "  }\n",
              "\n",
              "  .colab-df-quickchart {\n",
              "    background-color: var(--bg-color);\n",
              "    border: none;\n",
              "    border-radius: 50%;\n",
              "    cursor: pointer;\n",
              "    display: none;\n",
              "    fill: var(--fill-color);\n",
              "    height: 32px;\n",
              "    padding: 0;\n",
              "    width: 32px;\n",
              "  }\n",
              "\n",
              "  .colab-df-quickchart:hover {\n",
              "    background-color: var(--hover-bg-color);\n",
              "    box-shadow: 0 1px 2px rgba(60, 64, 67, 0.3), 0 1px 3px 1px rgba(60, 64, 67, 0.15);\n",
              "    fill: var(--button-hover-fill-color);\n",
              "  }\n",
              "\n",
              "  .colab-df-quickchart-complete:disabled,\n",
              "  .colab-df-quickchart-complete:disabled:hover {\n",
              "    background-color: var(--disabled-bg-color);\n",
              "    fill: var(--disabled-fill-color);\n",
              "    box-shadow: none;\n",
              "  }\n",
              "\n",
              "  .colab-df-spinner {\n",
              "    border: 2px solid var(--fill-color);\n",
              "    border-color: transparent;\n",
              "    border-bottom-color: var(--fill-color);\n",
              "    animation:\n",
              "      spin 1s steps(1) infinite;\n",
              "  }\n",
              "\n",
              "  @keyframes spin {\n",
              "    0% {\n",
              "      border-color: transparent;\n",
              "      border-bottom-color: var(--fill-color);\n",
              "      border-left-color: var(--fill-color);\n",
              "    }\n",
              "    20% {\n",
              "      border-color: transparent;\n",
              "      border-left-color: var(--fill-color);\n",
              "      border-top-color: var(--fill-color);\n",
              "    }\n",
              "    30% {\n",
              "      border-color: transparent;\n",
              "      border-left-color: var(--fill-color);\n",
              "      border-top-color: var(--fill-color);\n",
              "      border-right-color: var(--fill-color);\n",
              "    }\n",
              "    40% {\n",
              "      border-color: transparent;\n",
              "      border-right-color: var(--fill-color);\n",
              "      border-top-color: var(--fill-color);\n",
              "    }\n",
              "    60% {\n",
              "      border-color: transparent;\n",
              "      border-right-color: var(--fill-color);\n",
              "    }\n",
              "    80% {\n",
              "      border-color: transparent;\n",
              "      border-right-color: var(--fill-color);\n",
              "      border-bottom-color: var(--fill-color);\n",
              "    }\n",
              "    90% {\n",
              "      border-color: transparent;\n",
              "      border-bottom-color: var(--fill-color);\n",
              "    }\n",
              "  }\n",
              "</style>\n",
              "\n",
              "      <script>\n",
              "        async function quickchart(key) {\n",
              "          const quickchartButtonEl =\n",
              "            document.querySelector('#' + key + ' button');\n",
              "          quickchartButtonEl.disabled = true;  // To prevent multiple clicks.\n",
              "          quickchartButtonEl.classList.add('colab-df-spinner');\n",
              "          try {\n",
              "            const charts = await google.colab.kernel.invokeFunction(\n",
              "                'suggestCharts', [key], {});\n",
              "          } catch (error) {\n",
              "            console.error('Error during call to suggestCharts:', error);\n",
              "          }\n",
              "          quickchartButtonEl.classList.remove('colab-df-spinner');\n",
              "          quickchartButtonEl.classList.add('colab-df-quickchart-complete');\n",
              "        }\n",
              "        (() => {\n",
              "          let quickchartButtonEl =\n",
              "            document.querySelector('#df-44e8d13d-6e85-4284-b739-4f012f541519 button');\n",
              "          quickchartButtonEl.style.display =\n",
              "            google.colab.kernel.accessAllowed ? 'block' : 'none';\n",
              "        })();\n",
              "      </script>\n",
              "    </div>\n",
              "\n",
              "  <div id=\"id_cea893f1-2b61-40bd-a83e-3fd4557499ec\">\n",
              "    <style>\n",
              "      .colab-df-generate {\n",
              "        background-color: #E8F0FE;\n",
              "        border: none;\n",
              "        border-radius: 50%;\n",
              "        cursor: pointer;\n",
              "        display: none;\n",
              "        fill: #1967D2;\n",
              "        height: 32px;\n",
              "        padding: 0 0 0 0;\n",
              "        width: 32px;\n",
              "      }\n",
              "\n",
              "      .colab-df-generate:hover {\n",
              "        background-color: #E2EBFA;\n",
              "        box-shadow: 0px 1px 2px rgba(60, 64, 67, 0.3), 0px 1px 3px 1px rgba(60, 64, 67, 0.15);\n",
              "        fill: #174EA6;\n",
              "      }\n",
              "\n",
              "      [theme=dark] .colab-df-generate {\n",
              "        background-color: #3B4455;\n",
              "        fill: #D2E3FC;\n",
              "      }\n",
              "\n",
              "      [theme=dark] .colab-df-generate:hover {\n",
              "        background-color: #434B5C;\n",
              "        box-shadow: 0px 1px 3px 1px rgba(0, 0, 0, 0.15);\n",
              "        filter: drop-shadow(0px 1px 2px rgba(0, 0, 0, 0.3));\n",
              "        fill: #FFFFFF;\n",
              "      }\n",
              "    </style>\n",
              "    <button class=\"colab-df-generate\" onclick=\"generateWithVariable('cheater_summary')\"\n",
              "            title=\"Generate code using this dataframe.\"\n",
              "            style=\"display:none;\">\n",
              "\n",
              "  <svg xmlns=\"http://www.w3.org/2000/svg\" height=\"24px\"viewBox=\"0 0 24 24\"\n",
              "       width=\"24px\">\n",
              "    <path d=\"M7,19H8.4L18.45,9,17,7.55,7,17.6ZM5,21V16.75L18.45,3.32a2,2,0,0,1,2.83,0l1.4,1.43a1.91,1.91,0,0,1,.58,1.4,1.91,1.91,0,0,1-.58,1.4L9.25,21ZM18.45,9,17,7.55Zm-12,3A5.31,5.31,0,0,0,4.9,8.1,5.31,5.31,0,0,0,1,6.5,5.31,5.31,0,0,0,4.9,4.9,5.31,5.31,0,0,0,6.5,1,5.31,5.31,0,0,0,8.1,4.9,5.31,5.31,0,0,0,12,6.5,5.46,5.46,0,0,0,6.5,12Z\"/>\n",
              "  </svg>\n",
              "    </button>\n",
              "    <script>\n",
              "      (() => {\n",
              "      const buttonEl =\n",
              "        document.querySelector('#id_cea893f1-2b61-40bd-a83e-3fd4557499ec button.colab-df-generate');\n",
              "      buttonEl.style.display =\n",
              "        google.colab.kernel.accessAllowed ? 'block' : 'none';\n",
              "\n",
              "      buttonEl.onclick = () => {\n",
              "        google.colab.notebook.generateWithVariable('cheater_summary');\n",
              "      }\n",
              "      })();\n",
              "    </script>\n",
              "  </div>\n",
              "\n",
              "    </div>\n",
              "  </div>\n"
            ],
            "application/vnd.google.colaboratory.intrinsic+json": {
              "type": "dataframe",
              "variable_name": "cheater_summary",
              "summary": "{\n  \"name\": \"cheater_summary\",\n  \"rows\": 4,\n  \"fields\": [\n    {\n      \"column\": \"Cheater Type\",\n      \"properties\": {\n        \"dtype\": \"string\",\n        \"num_unique_values\": 4,\n        \"samples\": [\n          \"ML-Based Only\",\n          \"Both\",\n          \"Neither\"\n        ],\n        \"semantic_type\": \"\",\n        \"description\": \"\"\n      }\n    },\n    {\n      \"column\": \"Number of Students\",\n      \"properties\": {\n        \"dtype\": \"number\",\n        \"std\": 11677,\n        \"min\": 1,\n        \"max\": 23757,\n        \"num_unique_values\": 4,\n        \"samples\": [\n          1252,\n          1,\n          23757\n        ],\n        \"semantic_type\": \"\",\n        \"description\": \"\"\n      }\n    }\n  ]\n}"
            }
          },
          "metadata": {},
          "execution_count": 20
        }
      ]
    },
    {
      "cell_type": "markdown",
      "source": [
        "**Rule-Based vs ML-Based Cheaters**\n",
        "\n",
        "Most students were not flagged by either method, while a small number were caught by ML only, even fewer by Rule-Based only, and almost none by both methods."
      ],
      "metadata": {
        "id": "blP3XCH1c1Nh"
      }
    },
    {
      "cell_type": "code",
      "source": [
        "import matplotlib.pyplot as plt\n",
        "import seaborn as sns\n",
        "\n",
        "plt.figure(figsize=(8, 5))\n",
        "sns.barplot(data=cheater_summary, x='Cheater Type', y='Number of Students', palette='Set2')\n",
        "plt.title(\"Comparison of Rule-Based vs ML-Based Cheaters\")\n",
        "plt.ylabel(\"Number of Students\")\n",
        "plt.xlabel(\"Detection Type\")\n",
        "plt.xticks(rotation=20)\n",
        "plt.grid(axis='y')\n",
        "plt.tight_layout()\n",
        "plt.show()\n"
      ],
      "metadata": {
        "colab": {
          "base_uri": "https://localhost:8080/",
          "height": 614
        },
        "id": "aeWF4pCYsrEe",
        "outputId": "15a75628-8f04-427a-d78e-f9c4c99bfb9b"
      },
      "execution_count": null,
      "outputs": [
        {
          "output_type": "stream",
          "name": "stderr",
          "text": [
            "<ipython-input-21-5c04d999acb0>:5: FutureWarning: \n",
            "\n",
            "Passing `palette` without assigning `hue` is deprecated and will be removed in v0.14.0. Assign the `x` variable to `hue` and set `legend=False` for the same effect.\n",
            "\n",
            "  sns.barplot(data=cheater_summary, x='Cheater Type', y='Number of Students', palette='Set2')\n"
          ]
        },
        {
          "output_type": "display_data",
          "data": {
            "text/plain": [
              "<Figure size 800x500 with 1 Axes>"
            ],
            "image/png": "[encoded data removed]"
          },
          "metadata": {}
        }
      ]
    },
    {
      "cell_type": "markdown",
      "source": [
        "**Overlap in Cheater Detection: Rule-Based vs. ML**\n",
        "\n",
        "Most students were not flagged by either method, while a small number were caught by ML only, even fewer by Rule-Based only, and almost none by both methods."
      ],
      "metadata": {
        "id": "FabogFP1dhdq"
      }
    },
    {
      "cell_type": "code",
      "source": [
        "!pip install matplotlib-venn\n",
        "\n",
        "from matplotlib_venn import venn2\n",
        "\n",
        "rule_cheaters = set(comparison_df[comparison_df['is_cheater']]['id_student'])\n",
        "ml_cheaters = set(comparison_df[comparison_df['is_cheater_ml']]['id_student'])\n",
        "\n",
        "plt.figure(figsize=(6, 6))\n",
        "venn2([rule_cheaters, ml_cheaters], set_labels=('Rule-Based', 'ML-Based'))\n",
        "plt.title(\"Overlap of Cheaters Detected by Rule-Based and ML\")\n",
        "plt.show()\n"
      ],
      "metadata": {
        "colab": {
          "base_uri": "https://localhost:8080/",
          "height": 710
        },
        "id": "P8RawN7Es0g9",
        "outputId": "33b4afc5-bae3-49bb-bda8-ca02f2c19a02"
      },
      "execution_count": null,
      "outputs": [
        {
          "output_type": "stream",
          "name": "stdout",
          "text": [
            "Requirement already satisfied: matplotlib-venn in /usr/local/lib/python3.11/dist-packages (1.1.2)\n",
            "Requirement already satisfied: matplotlib in /usr/local/lib/python3.11/dist-packages (from matplotlib-venn) (3.10.0)\n",
            "Requirement already satisfied: numpy in /usr/local/lib/python3.11/dist-packages (from matplotlib-venn) (2.0.2)\n",
            "Requirement already satisfied: scipy in /usr/local/lib/python3.11/dist-packages (from matplotlib-venn) (1.15.2)\n",
            "Requirement already satisfied: contourpy>=1.0.1 in /usr/local/lib/python3.11/dist-packages (from matplotlib->matplotlib-venn) (1.3.2)\n",
            "Requirement already satisfied: cycler>=0.10 in /usr/local/lib/python3.11/dist-packages (from matplotlib->matplotlib-venn) (0.12.1)\n",
            "Requirement already satisfied: fonttools>=4.22.0 in /usr/local/lib/python3.11/dist-packages (from matplotlib->matplotlib-venn) (4.57.0)\n",
            "Requirement already satisfied: kiwisolver>=1.3.1 in /usr/local/lib/python3.11/dist-packages (from matplotlib->matplotlib-venn) (1.4.8)\n",
            "Requirement already satisfied: packaging>=20.0 in /usr/local/lib/python3.11/dist-packages (from matplotlib->matplotlib-venn) (24.2)\n",
            "Requirement already satisfied: pillow>=8 in /usr/local/lib/python3.11/dist-packages (from matplotlib->matplotlib-venn) (11.2.1)\n",
            "Requirement already satisfied: pyparsing>=2.3.1 in /usr/local/lib/python3.11/dist-packages (from matplotlib->matplotlib-venn) (3.2.3)\n",
            "Requirement already satisfied: python-dateutil>=2.7 in /usr/local/lib/python3.11/dist-packages (from matplotlib->matplotlib-venn) (2.9.0.post0)\n",
            "Requirement already satisfied: six>=1.5 in /usr/local/lib/python3.11/dist-packages (from python-dateutil>=2.7->matplotlib->matplotlib-venn) (1.17.0)\n"
          ]
        },
        {
          "output_type": "display_data",
          "data": {
            "text/plain": [
              "<Figure size 600x600 with 1 Axes>"
            ],
            "image/png": "[encoded data removed]"
          },
          "metadata": {}
        }
      ]
    },
    {
      "cell_type": "code",
      "source": [
        "cheaters.to_csv(\"/content/rule_based_cheaters.csv\", index=False)\n",
        "print(\"✅ Saved rule-based cheaters to 'rule_based_cheaters.csv'\")\n"
      ],
      "metadata": {
        "colab": {
          "base_uri": "https://localhost:8080/"
        },
        "id": "RwQyq7v6RBVm",
        "outputId": "9ffe9632-9bb3-436e-8384-53558fa35169"
      },
      "execution_count": null,
      "outputs": [
        {
          "output_type": "stream",
          "name": "stdout",
          "text": [
            "✅ Saved rule-based cheaters to 'rule_based_cheaters.csv'\n"
          ]
        }
      ]
    },
    {
      "cell_type": "code",
      "source": [
        "features_df.to_csv(\"/content/student_features.csv\", index=False)\n",
        "print(\"✅ Saved student features to 'student_features.csv'\")\n"
      ],
      "metadata": {
        "colab": {
          "base_uri": "https://localhost:8080/"
        },
        "id": "MMpht96qTHyj",
        "outputId": "dc8915e2-dc97-444f-f5ca-ee51a1f60a1f"
      },
      "execution_count": null,
      "outputs": [
        {
          "output_type": "stream",
          "name": "stdout",
          "text": [
            "✅ Saved student features to 'student_features.csv'\n"
          ]
        }
      ]
    }
  ]
}